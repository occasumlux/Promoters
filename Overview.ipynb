{
 "cells": [
  {
   "cell_type": "markdown",
   "id": "ce09f06e-f2bd-46bb-9854-e25ff04a3df5",
   "metadata": {},
   "source": [
    "# Model Comparison"
   ]
  },
  {
   "cell_type": "markdown",
   "id": "50820736-fc31-41ac-bc7d-edac998146f6",
   "metadata": {},
   "source": [
    "## Imports and setup"
   ]
  },
  {
   "cell_type": "code",
   "execution_count": 1,
   "id": "af314018-9689-49dc-9019-3be7576d9bca",
   "metadata": {},
   "outputs": [],
   "source": [
    "from custom_models import *"
   ]
  },
  {
   "cell_type": "code",
   "execution_count": 2,
   "id": "8f4eb90f-5078-40b3-91a1-c12bc8988216",
   "metadata": {},
   "outputs": [],
   "source": [
    "from Bio import SeqIO\n",
    "from pathlib import Path\n",
    "\n",
    "cwd = Path.cwd()\n",
    "benchmark_path = cwd / \"Dataset\" / \"Benchmark_dataset\"\n",
    "independent_path = cwd / \"Dataset\" / \"Independent_test_dataset\"\n",
    "\n",
    "# Read Sequence file in fasta format using BioPython library \n",
    "    \n",
    "super_transform = {\"70\": PromoterType.SIGMA_70, \n",
    "                   \"54\": PromoterType.SIGMA_54, \n",
    "                   \"38\": PromoterType.SIGMA_38, \n",
    "                   \"32\": PromoterType.SIGMA_32, \n",
    "                   \"28\": PromoterType.SIGMA_28, \n",
    "                   \"24\": PromoterType.SIGMA_24                   \n",
    "                  }\n",
    "sequences = []\n",
    "labels = []\n",
    "for record in SeqIO.parse(independent_path / \"independent.txt\", \"fasta\"):\n",
    "    seq = str(record.seq)\n",
    "    label = super_transform[record.id]\n",
    "    sequences.append(seq)\n",
    "    labels.append(label)"
   ]
  },
  {
   "cell_type": "code",
   "execution_count": 3,
   "id": "d28ba67e-4c58-4af4-a5a3-ac748e0adcf7",
   "metadata": {},
   "outputs": [],
   "source": [
    "with open(benchmark_path / 'promoter_and_non-promoter' / 'positive2860.txt') as handle:\n",
    "    promoters = [str(record.seq) for record in SeqIO.parse(handle, \"fasta\")]\n",
    "with open(benchmark_path / 'promoter_and_non-promoter' / 'negative2860.txt') as handle:\n",
    "    non_promoters = [str(record.seq) for record in SeqIO.parse(handle, \"fasta\")]\n",
    "with open(benchmark_path / 'sigma_subtypes' / 'sigma24promoter.txt') as handle:\n",
    "    sigma24promoter = [str(record.seq) for record in SeqIO.parse(handle, \"fasta\")]\n",
    "with open(benchmark_path / 'sigma_subtypes' / 'sigma28promoter.txt') as handle:\n",
    "    sigma28promoter = [str(record.seq) for record in SeqIO.parse(handle, \"fasta\")]\n",
    "with open(benchmark_path / 'sigma_subtypes' / 'sigma32promoter.txt') as handle:\n",
    "    sigma32promoter = [str(record.seq) for record in SeqIO.parse(handle, \"fasta\")]\n",
    "with open(benchmark_path / 'sigma_subtypes' / 'sigma38promoter.txt') as handle:\n",
    "    sigma38promoter = [str(record.seq) for record in SeqIO.parse(handle, \"fasta\")]\n",
    "with open(benchmark_path / 'sigma_subtypes' / 'sigma54promoter.txt') as handle:\n",
    "    sigma54promoter = [str(record.seq) for record in SeqIO.parse(handle, \"fasta\")]\n",
    "with open(benchmark_path / 'sigma_subtypes' / 'sigma70promoter.txt') as handle:\n",
    "    sigma70promoter = [str(record.seq) for record in SeqIO.parse(handle, \"fasta\")]\n",
    "\n",
    "benchmark_dataset = non_promoters + sigma24promoter + sigma28promoter + sigma32promoter + sigma38promoter + sigma54promoter + sigma70promoter\n",
    "benchmark_labels = [PromoterType.NON_PROMOTER]*len(non_promoters) + [PromoterType.SIGMA_24]*len(sigma24promoter) + [PromoterType.SIGMA_28]*len(sigma28promoter) + [PromoterType.SIGMA_32]*len(sigma32promoter) + [PromoterType.SIGMA_38]*len(sigma38promoter) + [PromoterType.SIGMA_54]*len(sigma54promoter) + [PromoterType.SIGMA_70]*len(sigma70promoter)"
   ]
  },
  {
   "cell_type": "code",
   "execution_count": 4,
   "id": "3b0115f6-6b4a-4304-b325-8a1cb5a53dfb",
   "metadata": {},
   "outputs": [],
   "source": [
    "from tabulate import tabulate\n",
    "def make_test_table(model, sequences, labels):\n",
    "    results, acc = model.test(sequences, labels)\n",
    "    \n",
    "    print(f\"{model.name:^99}\")\n",
    "    \n",
    "    formatted_res = {\"\": (\"TP\", \"FP\", \"TN\", \"FN\", \"Specificity\", \"Sensitivity\", \"MCC\", \"Accuracy\")}\n",
    "    formatted_res.update({_type.name : (values[\"TP\"], values[\"FP\"], values[\"TN\"], values[\"FN\"], values[\"Specificity\"], values[\"Sensitivity\"], values[\"MCC\"], values[\"Accuracy\"]) for _type, values in results.items()})\n",
    "    \n",
    "    print(tabulate(formatted_res, headers=\"keys\"))\n",
    "    print(f\"\\nTotal accuracy: {acc}\")"
   ]
  },
  {
   "cell_type": "markdown",
   "id": "e005ab40-6768-425c-8823-cae0051f94b8",
   "metadata": {},
   "source": [
    "## Model loading"
   ]
  },
  {
   "cell_type": "markdown",
   "id": "58d020d4-6452-4afb-ab36-8353e4089921",
   "metadata": {
    "tags": []
   },
   "source": [
    "### Order definition for cascade-based models"
   ]
  },
  {
   "cell_type": "code",
   "execution_count": 5,
   "id": "5c4d449a-9462-47f6-b77b-ba4e7a1f4cd3",
   "metadata": {},
   "outputs": [],
   "source": [
    "iPromoter_order = [PromoterType.SIGMA_70, PromoterType.SIGMA_24, PromoterType.SIGMA_32, PromoterType.SIGMA_38, PromoterType.SIGMA_28, PromoterType.SIGMA_54]\n",
    "pcPromoter_order = [PromoterType.SIGMA_70, PromoterType.SIGMA_24, PromoterType.SIGMA_28, PromoterType.SIGMA_38, PromoterType.SIGMA_32, PromoterType.SIGMA_54]"
   ]
  },
  {
   "cell_type": "markdown",
   "id": "a057890f-9dc4-4175-bda5-401baa2476e0",
   "metadata": {},
   "source": [
    "### pcPromoter-CNN"
   ]
  },
  {
   "cell_type": "code",
   "execution_count": 7,
   "id": "cadb2115-9eb0-4b6c-a823-481b96a01c84",
   "metadata": {},
   "outputs": [],
   "source": [
    "pcPromoter_paths = [Path(\"./weights/PCPromoter\") / fold for fold in [\"best_weights_Pro_NonPro.h5\", \"best_weights_Sigma70.h5\", \"best_weights_Sigma24_v1.h5\", \"best_weights_Sigma28.h5\", \"best_weights_Sigma38.h5\", \"best_weights_Sigma32.h5\"]]\n",
    "pcPromoter = PCPromoter(\"pcPromoter-CNN\", pcPromoter_paths, pcPromoter_order, ModelType.WEIGHTS_ONLY)"
   ]
  },
  {
   "cell_type": "markdown",
   "id": "2cf8e3b5-d9ce-4948-bfe1-dbd5b805b02e",
   "metadata": {},
   "source": [
    "### iPromoter-BnCNN"
   ]
  },
  {
   "cell_type": "code",
   "execution_count": 8,
   "id": "c29a5810-a27a-4cc3-bd63-f58b17450cf6",
   "metadata": {},
   "outputs": [],
   "source": [
    "iPromoter_paths = [Path(\"./weights/IPromoter\") / fold for fold in [\"promoter_saved_model.h5\", \"sigma70_saved_model.h5\", \"sigma24_saved_model.h5\", \"sigma32_saved_model.h5\", \"sigma38_saved_model.h5\", \"sigma28_saved_model.h5\"]]\n",
    "iPromoter = IPromoter(\"iPromoter-BnCNN\", iPromoter_paths, iPromoter_order)"
   ]
  },
  {
   "cell_type": "markdown",
   "id": "d36f0ee7-c63d-44ac-b18a-b84c1b96d15f",
   "metadata": {},
   "source": [
    "### PromoterLCNN"
   ]
  },
  {
   "cell_type": "code",
   "execution_count": 9,
   "id": "6996df3c-4582-43d7-8254-1e14dea0e47f",
   "metadata": {},
   "outputs": [],
   "source": [
    "promoterLCNN = PromoterLCNN(\"PromoterLCNN\",\n",
    "                [\n",
    "                    Path(\"./weights/PromoterLCNN/IsPromoter_fold_5\"),\n",
    "                    Path(\"./weights/PromoterLCNN/PromotersOnly_fold_1\")\n",
    "                ]\n",
    ")"
   ]
  },
  {
   "cell_type": "markdown",
   "id": "04ca070b-2f53-43e3-a8cb-e73cef1503d3",
   "metadata": {},
   "source": [
    "## Tables!"
   ]
  },
  {
   "cell_type": "markdown",
   "id": "8fbd53bd-51b3-490b-81d9-c68c9a00e2b9",
   "metadata": {},
   "source": [
    "### pcPromoter-CNN"
   ]
  },
  {
   "cell_type": "markdown",
   "id": "fff322b0-de71-4874-b3ee-6c9b0dedcd57",
   "metadata": {},
   "source": [
    "#### Validation dataset"
   ]
  },
  {
   "cell_type": "code",
   "execution_count": 11,
   "id": "7cdf8691-dc21-46dc-b0fb-164a0129654d",
   "metadata": {},
   "outputs": [
    {
     "name": "stdout",
     "output_type": "stream",
     "text": [
      "                                          pcPromoter-CNN                                           \n",
      "               NON_PROMOTER    SIGMA_70    SIGMA_24    SIGMA_28     SIGMA_38    SIGMA_32    SIGMA_54\n",
      "-----------  --------------  ----------  ----------  ----------  -----------  ----------  ----------\n",
      "TP                 0         162          22           2           0            2           0\n",
      "FP                29          15           6           1           5            0          12\n",
      "TN               227          42         220         251         241          243         244\n",
      "FN                 0          37           8           2          10           11           0\n",
      "Specificity        0.886719    0.736842    0.973451    0.996032    0.979675     1           0.953125\n",
      "Sensitivity        0           0.81407     0.733333    0.5         0            0.153846    0\n",
      "MCC                0           0.496188    0.728376    0.571635   -0.0284564    0.383645    0\n",
      "Accuracy           0.886719    0.796875    0.945312    0.988281    0.941406     0.957031    0.953125\n",
      "\n",
      "Total accuracy: 0.734375\n"
     ]
    }
   ],
   "source": [
    "make_test_table(pcPromoter, sequences, labels)"
   ]
  },
  {
   "cell_type": "markdown",
   "id": "cdbfe188-ef23-4fd5-a703-2d1a69dc1d63",
   "metadata": {},
   "source": [
    "#### Training dataset"
   ]
  },
  {
   "cell_type": "code",
   "execution_count": 12,
   "id": "d52c9130-020f-4149-bee6-4d997859e09b",
   "metadata": {},
   "outputs": [
    {
     "name": "stdout",
     "output_type": "stream",
     "text": [
      "                                          pcPromoter-CNN                                           \n",
      "               NON_PROMOTER     SIGMA_70     SIGMA_24     SIGMA_28      SIGMA_38     SIGMA_32      SIGMA_54\n",
      "-----------  --------------  -----------  -----------  -----------  ------------  -----------  ------------\n",
      "TP              2585         1400          400           85            6            67            8\n",
      "FP               308          407          129           27           94            23          181\n",
      "TN              2552         3619         5107         5559         5463          5406         5445\n",
      "FN               275          294           84           49          157           224           86\n",
      "Specificity        0.892308     0.898907     0.975363     0.995166     0.983084      0.995763     0.967828\n",
      "Sensitivity        0.903846     0.826446     0.826446     0.634328     0.0368098     0.230241     0.0851064\n",
      "MCC                0.796207     0.712376     0.770265     0.687198     0.0252565     0.399068     0.0376503\n",
      "Accuracy           0.898077     0.877448     0.962762     0.986713     0.956119      0.956818     0.953322\n",
      "\n",
      "Total accuracy: 0.7956293706293707\n"
     ]
    }
   ],
   "source": [
    "make_test_table(pcPromoter, benchmark_dataset, benchmark_labels)"
   ]
  },
  {
   "cell_type": "markdown",
   "id": "8dcb0fa6-3afd-4846-8d49-7004fce77b21",
   "metadata": {},
   "source": [
    "### IPromoter-BnCNN"
   ]
  },
  {
   "cell_type": "markdown",
   "id": "295e85fa-ee4d-4829-9259-ec63688c8fdb",
   "metadata": {},
   "source": [
    "#### Validation dataset"
   ]
  },
  {
   "cell_type": "code",
   "execution_count": 14,
   "id": "41065980-7fb7-4cc9-9d67-d55d986bc72b",
   "metadata": {},
   "outputs": [
    {
     "name": "stdout",
     "output_type": "stream",
     "text": [
      "                                          iPromoter-BnCNN                                          \n",
      "               NON_PROMOTER    SIGMA_70    SIGMA_24    SIGMA_28    SIGMA_38    SIGMA_32    SIGMA_54\n",
      "-----------  --------------  ----------  ----------  ----------  ----------  ----------  ----------\n",
      "TP                 0         178          25           1           3           9           0\n",
      "FP                13           9           9           1           3           4           1\n",
      "TN               243          48         217         251         243         239         255\n",
      "FN                 0          21           5           3           7           4           0\n",
      "Specificity        0.949219    0.842105    0.960177    0.996032    0.987805    0.983539    0.996094\n",
      "Sensitivity        0           0.894472    0.833333    0.25        0.3         0.692308    0\n",
      "MCC                0           0.690617    0.752058    0.346569    0.36857     0.675847    0\n",
      "Accuracy           0.949219    0.882812    0.945312    0.984375    0.960938    0.96875     0.996094\n",
      "\n",
      "Total accuracy: 0.84375\n"
     ]
    }
   ],
   "source": [
    "make_test_table(iPromoter, sequences, labels)"
   ]
  },
  {
   "cell_type": "markdown",
   "id": "52352ad3-6c6d-4e3e-ad10-14e74f76abb9",
   "metadata": {},
   "source": [
    "#### Training dataset"
   ]
  },
  {
   "cell_type": "code",
   "execution_count": 16,
   "id": "1ce25ac9-4a82-458e-a5f5-9902dec25f90",
   "metadata": {},
   "outputs": [
    {
     "name": "stdout",
     "output_type": "stream",
     "text": [
      "                                          iPromoter-BnCNN                                          \n",
      "               NON_PROMOTER     SIGMA_70     SIGMA_24     SIGMA_28     SIGMA_38     SIGMA_32     SIGMA_54\n",
      "-----------  --------------  -----------  -----------  -----------  -----------  -----------  -----------\n",
      "TP              2736         1579          452          118          120          266           70\n",
      "FP                73          120           48           26           49           52           11\n",
      "TN              2787         3906         5188         5560         5508         5377         5615\n",
      "FN               124          115           32           16           43           25           24\n",
      "Specificity        0.974476     0.970194     0.990833     0.995346     0.991182     0.990422     0.998045\n",
      "Sensitivity        0.956643     0.932113     0.933884     0.880597     0.736196     0.914089     0.744681\n",
      "MCC                0.931267     0.901538     0.911195     0.845738     0.714736     0.86742      0.799187\n",
      "Accuracy           0.965559     0.958916     0.986014     0.992657     0.983916     0.986538     0.993881\n",
      "\n",
      "Total accuracy: 0.9337412587412588\n"
     ]
    }
   ],
   "source": [
    "make_test_table(iPromoter, benchmark_dataset, benchmark_labels)"
   ]
  },
  {
   "cell_type": "markdown",
   "id": "a41c5384-1d71-49df-bdcf-585ef3f57098",
   "metadata": {},
   "source": [
    "### PromoterLCNN"
   ]
  },
  {
   "cell_type": "markdown",
   "id": "66ef24df-c224-4e09-90e6-933f38b8b012",
   "metadata": {
    "tags": []
   },
   "source": [
    "#### Validation dataset"
   ]
  },
  {
   "cell_type": "code",
   "execution_count": 17,
   "id": "ecc79e8c-06cb-4a1b-9a23-32d271a1aabe",
   "metadata": {},
   "outputs": [
    {
     "name": "stdout",
     "output_type": "stream",
     "text": [
      "                                           PromoterLCNN                                            \n",
      "               NON_PROMOTER    SIGMA_70    SIGMA_24    SIGMA_28    SIGMA_38    SIGMA_32    SIGMA_54\n",
      "-----------  --------------  ----------  ----------  ----------  ----------  ----------  ----------\n",
      "TP                 0         176          25           2           1           5                  0\n",
      "FP                29           8           6           0           3           1                  0\n",
      "TN               227          49         220         252         243         242                256\n",
      "FN                 0          23           5           2           9           8                  0\n",
      "Specificity        0.886719    0.859649    0.973451    1           0.987805    0.995885           1\n",
      "Sensitivity        0           0.884422    0.833333    0.5         0.1         0.384615           0\n",
      "MCC                0           0.688499    0.795427    0.704317    0.137169    0.552184           0\n",
      "Accuracy           0.886719    0.878906    0.957031    0.992188    0.953125    0.964844           1\n",
      "\n",
      "Total accuracy: 0.81640625\n"
     ]
    }
   ],
   "source": [
    "make_test_table(promoterLCNN, sequences, labels)"
   ]
  },
  {
   "cell_type": "markdown",
   "id": "34acdef4-fe57-4286-9d3e-eba9249d16c6",
   "metadata": {},
   "source": [
    "#### Training dataset"
   ]
  },
  {
   "cell_type": "code",
   "execution_count": 18,
   "id": "b17c50e4-593b-421e-a709-77f9b5d92911",
   "metadata": {},
   "outputs": [
    {
     "name": "stdout",
     "output_type": "stream",
     "text": [
      "                                           PromoterLCNN                                            \n",
      "               NON_PROMOTER     SIGMA_70     SIGMA_24     SIGMA_28     SIGMA_38     SIGMA_32     SIGMA_54\n",
      "-----------  --------------  -----------  -----------  -----------  -----------  -----------  -----------\n",
      "TP              2696         1578          435          102          129          252           64\n",
      "FP               196          143           48            8           33           33            3\n",
      "TN              2664         3883         5188         5578         5524         5396         5623\n",
      "FN               164          116           49           32           34           39           30\n",
      "Specificity        0.931469     0.964481     0.990833     0.998568     0.994062     0.993922     0.999467\n",
      "Sensitivity        0.942657     0.931523     0.89876      0.761194     0.791411     0.865979     0.680851\n",
      "MCC                0.874181     0.891944     0.890428     0.836763     0.787822     0.868426     0.803894\n",
      "Accuracy           0.937063     0.95472      0.983042     0.993007     0.988287     0.987413     0.994231\n",
      "\n",
      "Total accuracy: 0.9188811188811189\n"
     ]
    }
   ],
   "source": [
    "make_test_table(promoterLCNN, benchmark_dataset, benchmark_labels)"
   ]
  },
  {
   "cell_type": "code",
   "execution_count": null,
   "id": "40d6ed5d-6ff3-4850-b1e7-5e38efacf0fc",
   "metadata": {},
   "outputs": [],
   "source": []
  }
 ],
 "metadata": {
  "kernelspec": {
   "display_name": "Python 3 (ipykernel)",
   "language": "python",
   "name": "python3"
  },
  "language_info": {
   "codemirror_mode": {
    "name": "ipython",
    "version": 3
   },
   "file_extension": ".py",
   "mimetype": "text/x-python",
   "name": "python",
   "nbconvert_exporter": "python",
   "pygments_lexer": "ipython3",
   "version": "3.8.10"
  }
 },
 "nbformat": 4,
 "nbformat_minor": 5
}
